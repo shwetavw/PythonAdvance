{
 "cells": [
  {
   "cell_type": "markdown",
   "metadata": {},
   "source": [
    "# Programming Advance Assignment-1"
   ]
  },
  {
   "cell_type": "markdown",
   "metadata": {},
   "source": [
    "### Q1. What is the purpose of Python's OOP?"
   ]
  },
  {
   "cell_type": "markdown",
   "metadata": {},
   "source": [
    "#### Answer: \n",
    "The purpose of Python’s OOP is to structure the code in simple, modular and organized way. OOP make the code reuseable, extensibale and maintainable."
   ]
  },
  {
   "cell_type": "markdown",
   "metadata": {},
   "source": [
    "### Q2. Where does an inheritance search look for an attribute?"
   ]
  },
  {
   "cell_type": "markdown",
   "metadata": {},
   "source": [
    "#### Answer: \n",
    "Inheritance search look for an attribute always from bottom to top direction that is first it will search an attribute in the immediate class from which an instance is created and then it moves to the upwards in the hireachy until it find the attribute or reach to the main class in the hirearchy. "
   ]
  },
  {
   "cell_type": "markdown",
   "metadata": {},
   "source": [
    "### Q3. How do you distinguish between a class object and an instance object?"
   ]
  },
  {
   "cell_type": "markdown",
   "metadata": {},
   "source": [
    "#### Answer: \n",
    "Class is a logical entity. Class object is variable of type class which is also called an instance of the class.<br>\n",
    "Once a class is created then we can create any number of instance of that class."
   ]
  },
  {
   "cell_type": "markdown",
   "metadata": {},
   "source": [
    "### Q4. What makes the first argument in a class’s method function special?"
   ]
  },
  {
   "cell_type": "markdown",
   "metadata": {},
   "source": [
    "#### Answer: \n",
    "First argument in a class method is represent the instance of the class, which calls the method of the class.<br> In python, by convention name of first argument of class method is self. We can use any other name in place of self.<br><br>\n",
    "Example:<br>\n",
    "class Number:<br>\n",
    "&nbsp;&nbsp;&nbsp;&nbsp;def __init__(self,n):<br>\n",
    "&nbsp;&nbsp;&nbsp;&nbsp;&nbsp;&nbsp;&nbsp;&nbsp;self.n = n<br>\n",
    "&nbsp;&nbsp;&nbsp;&nbsp;def __str__(self):<br>\n",
    "&nbsp;&nbsp;&nbsp;&nbsp;&nbsp;&nbsp;&nbsp;&nbsp;return f\"this is Number class, called by instance {self.n}\"<br>\n",
    "\n",
    "instanceOfNum1 = Number(1)<br>\n",
    "print(instanceOfNum1)<br>\n",
    "\n",
    "in above example, 'self' represent instanceOfNum1 when 'print' statement executed, that is calling object."
   ]
  },
  {
   "cell_type": "markdown",
   "metadata": {},
   "source": [
    "### Q5. What is the purpose of the __init__ method?"
   ]
  },
  {
   "cell_type": "markdown",
   "metadata": {},
   "source": [
    "#### Answer: \n",
    "__init__  method behave like a constructor method of a class.<br> The purpose of __init__ method is used to initialize the attributes of the class instance."
   ]
  },
  {
   "cell_type": "markdown",
   "metadata": {},
   "source": [
    "### Q6. What is the process for creating a class instance?"
   ]
  },
  {
   "cell_type": "markdown",
   "metadata": {},
   "source": [
    "#### Answer: \n",
    "Once a class is created we can create a class instance.<br>\n",
    "__syntax__:<br>\n",
    "instanceName = className(optional arrtibutes value)\n",
    "\n",
    "Example:<br>\n",
    "class Test:<br>\n",
    "&nbsp;&nbsp;&nbsp;&nbsp;pass\n",
    "\n",
    "instanceOfTest = Test()  => where instanceOfTest is an instance of class Test\n"
   ]
  },
  {
   "cell_type": "markdown",
   "metadata": {},
   "source": [
    "### Q7. What is the process for creating a class?"
   ]
  },
  {
   "cell_type": "markdown",
   "metadata": {},
   "source": [
    "#### Answer: \n",
    "The class keyword followed by a class name is used to create a class.<br>\n",
    "\n",
    "Example:<br>\n",
    "class Car:<br>\n",
    "&nbsp;&nbsp;&nbsp;&nbsp;pass"
   ]
  },
  {
   "cell_type": "markdown",
   "metadata": {},
   "source": [
    "### Q8. How would you define the superclasses of a class?"
   ]
  },
  {
   "cell_type": "markdown",
   "metadata": {},
   "source": [
    "#### Answer: <br>\n",
    "A class from which one or many classes are derived is called super class.<br>\n",
    "\n",
    "Example:<br>\n",
    "class Shape:<br>\n",
    "&nbsp;&nbsp;&nbsp;&nbsp;def message1(self):<br>\n",
    "&nbsp;&nbsp;&nbsp;&nbsp;&nbsp;&nbsp;&nbsp;&nbsp;print(\"I am super class Shape\")<br>\n",
    "\n",
    "class Triangle(Shape):<br>\n",
    "&nbsp;&nbsp;&nbsp;&nbsp;def message2(self):<br>\n",
    "&nbsp;&nbsp;&nbsp;&nbsp;&nbsp;&nbsp;&nbsp;&nbsp;print(\"I am sub class Triangle\")<br>\n",
    "\n",
    "\n",
    "class Square(Shape):\n",
    "&nbsp;&nbsp;&nbsp;&nbsp;def message2(self):<br>\n",
    "&nbsp;&nbsp;&nbsp;&nbsp;&nbsp;&nbsp;&nbsp;&nbsp;print(\"I am sub class Square\")<br>\n"
   ]
  },
  {
   "cell_type": "code",
   "execution_count": null,
   "metadata": {},
   "outputs": [],
   "source": []
  }
 ],
 "metadata": {
  "kernelspec": {
   "display_name": "Python 3",
   "language": "python",
   "name": "python3"
  },
  "language_info": {
   "codemirror_mode": {
    "name": "ipython",
    "version": 3
   },
   "file_extension": ".py",
   "mimetype": "text/x-python",
   "name": "python",
   "nbconvert_exporter": "python",
   "pygments_lexer": "ipython3",
   "version": "3.8.3rc1"
  }
 },
 "nbformat": 4,
 "nbformat_minor": 4
}
